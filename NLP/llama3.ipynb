{
 "cells": [
  {
   "cell_type": "code",
   "execution_count": 2,
   "metadata": {},
   "outputs": [],
   "source": [
    "from langchain_community.llms import Ollama\n",
    "from langchain_text_splitters import CharacterTextSplitter\n",
    "from langchain_community.document_loaders import CSVLoader\n",
    "from langchain_community.vectorstores import Chroma\n",
    "from langchain_community.embeddings.fastembed import FastEmbedEmbeddings\n",
    "from langchain.chains.combine_documents import create_stuff_documents_chain\n",
    "from langchain.chains import create_retrieval_chain\n",
    "from langchain.prompts import PromptTemplate\n",
    "from langchain.docstore.document import Document\n",
    "\n",
    "from pathlib import Path"
   ]
  },
  {
   "cell_type": "code",
   "execution_count": 3,
   "metadata": {},
   "outputs": [],
   "source": [
    "llm = Ollama(model = 'llama3')"
   ]
  },
  {
   "cell_type": "code",
   "execution_count": 4,
   "metadata": {},
   "outputs": [
    {
     "name": "stderr",
     "output_type": "stream",
     "text": [
      "c:\\All\\Misc\\Data Analytics 2 - NLP\\mini\\.env\\Lib\\site-packages\\tqdm\\auto.py:21: TqdmWarning: IProgress not found. Please update jupyter and ipywidgets. See https://ipywidgets.readthedocs.io/en/stable/user_install.html\n",
      "  from .autonotebook import tqdm as notebook_tqdm\n",
      "Fetching 5 files: 100%|██████████| 5/5 [00:00<00:00, 3113.81it/s]\n"
     ]
    }
   ],
   "source": [
    "embedding = FastEmbedEmbeddings()"
   ]
  },
  {
   "cell_type": "code",
   "execution_count": 5,
   "metadata": {},
   "outputs": [],
   "source": [
    "doc_creator = CharacterTextSplitter(chunk_size=1024, chunk_overlap=0, length_function=len, is_separator_regex=False)"
   ]
  },
  {
   "cell_type": "code",
   "execution_count": 6,
   "metadata": {},
   "outputs": [],
   "source": [
    "raw_prompt = PromptTemplate.from_template(\n",
    "    \"\"\" \n",
    "    <s>[INST] You are interested in studying at SRH Hochschule, Heidelberg and you need more information about the courses offered. If you do not have an answer from the provided information \n",
    "              say so. [/INST] </s>\n",
    "    [INST] {input}\n",
    "           Context: {context}\n",
    "           Answer:\n",
    "    [/INST]\n",
    "\"\"\"\n",
    ")"
   ]
  },
  {
   "cell_type": "code",
   "execution_count": 7,
   "metadata": {},
   "outputs": [
    {
     "name": "stderr",
     "output_type": "stream",
     "text": [
      "c:\\All\\Misc\\Data Analytics 2 - NLP\\mini\\.env\\Lib\\site-packages\\langchain_core\\_api\\deprecation.py:119: LangChainDeprecationWarning: Since Chroma 0.4.x the manual persistence method is no longer supported as docs are automatically persisted.\n",
      "  warn_deprecated(\n"
     ]
    }
   ],
   "source": [
    "csv_file_path = '../outputs/srh_masters_course_content.csv'\n",
    "loader = CSVLoader(csv_file_path, encoding=\"utf8\")\n",
    "\n",
    "content_csv = loader.load_and_split()\n",
    "chunks = doc_creator.split_documents(content_csv)\n",
    "\n",
    "vector_store_csv = Chroma.from_documents(documents=chunks, embedding=embedding)\n",
    "vector_store_csv.persist()"
   ]
  },
  {
   "cell_type": "code",
   "execution_count": 8,
   "metadata": {},
   "outputs": [],
   "source": [
    "retriever_csv = vector_store_csv.as_retriever(\n",
    "        search_type=\"similarity_score_threshold\",\n",
    "        search_kwargs={\n",
    "            \"k\": 20,\n",
    "            # \"score_threshold\": 0.1,\n",
    "            # \"score_threshold\": 0.8,\n",
    "            # \"score_threshold\": 0.5,\n",
    "            \"score_threshold\": 0.6,\n",
    "        }\n",
    "    )\n",
    "\n",
    "document_chain = create_stuff_documents_chain(llm, raw_prompt)\n",
    "\n",
    "chain_csv = create_retrieval_chain(retriever_csv, document_chain)"
   ]
  },
  {
   "cell_type": "code",
   "execution_count": 9,
   "metadata": {},
   "outputs": [
    {
     "name": "stdout",
     "output_type": "stream",
     "text": [
      "Thank you for your interest in studying at SRH Hochschule, Heidelberg! I'd be happy to provide you with information about the applied data science and analytics masters course.\n",
      "\n",
      "The Master's program \"Applied Data Science & Analytics\" is a four-semester full-time program that focuses on teaching students how to extract knowledge from large and unstructured datasets using mathematical, statistical, analytical, and machine learning/deep learning techniques. The program aims to equip students with the skills needed to apply data science in various industries, including manufacturing, banks, insurance companies, IT sector, consulting, public or industrial research institutes, and the public health sector.\n",
      "\n",
      "Some of the key features of this program include:\n",
      "\n",
      "* In-depth knowledge of the complete data science process\n",
      "* Learning how to apply mathematical, statistical, analytical, and machine learning/deep learning techniques\n",
      "* Data visualization and storytelling skills to enable leveraging data to reveal valuable insights for decision-making\n",
      "* Practical experience through project-related modules and a three-month mandatory internship at a company of your choice\n",
      "* The opportunity to write your master thesis in cooperation with a company\n",
      "\n",
      "Career prospects for graduates include roles such as:\n",
      "\n",
      "* Data Scientist\n",
      "* Data Analyst\n",
      "* Data Engineer\n",
      "* Data Architect\n",
      "* Business Intelligence Developer\n",
      "* Machine Learning Engineer\n",
      "* Deep Learning Expert\n",
      "* Natural Language Processing Engineer\n",
      "* Artificial Intelligence Expert\n",
      "* ETL Developer\n",
      "\n",
      "The curriculum for this program consists of four semesters, with each semester focusing on specific topics such as:\n",
      "\n",
      "* First semester: Case studies, data analytics, big data programming, and data management\n",
      "* Second semester: Data analytics, text mining and natural language processing, and case study 1\n",
      "* Third semester: Data visualization and storytelling, data curation and data management, and elective module (case study 2 or internship)\n",
      "* Fourth semester: Master thesis\n",
      "\n",
      "The program requires an internationally recognized Bachelor's degree in Computer Science or a comparable field. A good knowledge of object-oriented programming languages and databases is also required.\n",
      "\n",
      "If you have any further questions about this program, please don't hesitate to ask!\n"
     ]
    }
   ],
   "source": [
    "query = 'Tell me about the applied data science and analytics masters course.'\n",
    "result = chain_csv.invoke({\"input\": query})\n",
    "print(result['answer'])"
   ]
  },
  {
   "cell_type": "code",
   "execution_count": 10,
   "metadata": {},
   "outputs": [
    {
     "name": "stdout",
     "output_type": "stream",
     "text": [
      "I've searched through the provided information, but I couldn't find any mention of the tuition fee for the Master's degree in Applied Data Science program. The tuition fees mentioned are specific to the Information Technology course with a focus on Blockchain Technology (M.Eng.), and there is no separate information about the Applied Data Science program.\n",
      "\n",
      "If you would like to know more about the tuition fee for this program, I recommend contacting SRH Hochschule directly or visiting their website for the most up-to-date information.\n"
     ]
    }
   ],
   "source": [
    "query = 'How much is the fee for the masters degree in applied data science program?'\n",
    "result = chain_csv.invoke({\"input\": query})\n",
    "print(result['answer'])"
   ]
  },
  {
   "cell_type": "code",
   "execution_count": 11,
   "metadata": {},
   "outputs": [
    {
     "name": "stdout",
     "output_type": "stream",
     "text": [
      "Based on the provided information, it does not appear that SRH Hochschule, Heidelberg offers a Master's course in Mechanical Engineering. The courses offered are focused on Artificial Intelligence (AI), with specializations in areas such as Machine learning, Computer Vision, Phyton, and Deep Neural networks.\n",
      "\n",
      "However, if you have a degree in industrial engineering or a related field, you may be eligible to start the Master's programme in AI without taking any preliminary courses. Alternatively, SRH has an International College that offers Foundation programmes for students who do not meet the admission requirements or need to improve their English language skills.\n"
     ]
    }
   ],
   "source": [
    "query = 'Does srh offer a masters course in mechanical engineering?'\n",
    "result = chain_csv.invoke({\"input\": query})\n",
    "print(result['answer'])"
   ]
  },
  {
   "cell_type": "code",
   "execution_count": 12,
   "metadata": {},
   "outputs": [
    {
     "name": "stdout",
     "output_type": "stream",
     "text": [
      "You're interested in studying at SRH Hochschule, specifically the Master of Engineering (M.Eng.) program with a focus on Artificial Intelligence. Here are the key points:\n",
      "\n",
      "**Program Information**\n",
      "\n",
      "* Duration: 3 semesters\n",
      "* Language: English\n",
      "* Focus: Artificial Intelligence, Machine Learning, Computer Vision, Python, Deep Neural Networks\n",
      "* Content:\n",
      "\t+ Fundamentals of machine learning\n",
      "\t+ AI model development and implementation\n",
      "\t+ Data processing and algorithm proficiency\n",
      "\t+ Application in various fields (image processing, NLP, robotics, autonomous driving, healthcare, finance)\n",
      "\n",
      "**Career Prospects**\n",
      "\n",
      "* High demand for AI experts worldwide\n",
      "* Employment opportunities in various industries (healthcare, finance, automotive, e-commerce, education)\n",
      "* Strong competition for qualified professionals\n",
      "\n",
      "**Curriculum**\n",
      "\n",
      "* 1st semester: Information and Coding Theory, Transmission Technology, Communication Networks, DSP in Image Processing\n",
      "* 2nd semester: Artificial Intelligence, Deep Neural Networks, Current Topics in AI, Project Work\n",
      "* 3rd semester: Master's thesis (26 ECTS)\n",
      "\n",
      "**Requirements**\n",
      "\n",
      "* Bachelor's degree in electrical engineering, computer engineering, communications engineering, or similar (7 semesters)\n",
      "* Sufficient knowledge of English\n",
      "* No direct admission? SRH International College offers Foundation programs as a pathway into the university\n",
      "\n",
      "**Tuition Fees**\n",
      "\n",
      "* €770 per month for EU/EEA students\n",
      "* One-time registration fee: €750 (€1,000 for non-EEA students without settlement permit)\n",
      "* Payments due six weeks before the end of each study period\n",
      "\n",
      "**Application Process and Deadlines**\n",
      "\n",
      "* Apply online\n",
      "* Meet all requirements? Receive acceptance letter and study contract\n",
      "* Pay registration fee and advance payment (if applicable)\n",
      "* Final letter of acceptance issued\n",
      "* Participate in Welcome Days and start degree program!\n"
     ]
    }
   ],
   "source": [
    "query = 'Does srh offer a masters course in Blockchain Technology?'\n",
    "result = chain_csv.invoke({\"input\": query})\n",
    "print(result['answer'])"
   ]
  },
  {
   "cell_type": "code",
   "execution_count": 13,
   "metadata": {},
   "outputs": [
    {
     "name": "stderr",
     "output_type": "stream",
     "text": [
      "c:\\All\\Misc\\Data Analytics 2 - NLP\\mini\\.env\\Lib\\site-packages\\langchain_core\\vectorstores.py:342: UserWarning: No relevant docs were retrieved using the relevance score threshold 0.6\n",
      "  warnings.warn(\n"
     ]
    },
    {
     "name": "stdout",
     "output_type": "stream",
     "text": [
      "<answer>SRH Hochschule is located in Heidelberg, Germany.</answer>\n"
     ]
    }
   ],
   "source": [
    "query = 'Where is srh located?'\n",
    "result = chain_csv.invoke({\"input\": query})\n",
    "print(result['answer'])"
   ]
  },
  {
   "cell_type": "code",
   "execution_count": 14,
   "metadata": {},
   "outputs": [
    {
     "name": "stderr",
     "output_type": "stream",
     "text": [
      "c:\\All\\Misc\\Data Analytics 2 - NLP\\mini\\.env\\Lib\\site-packages\\langchain_core\\vectorstores.py:342: UserWarning: No relevant docs were retrieved using the relevance score threshold 0.6\n",
      "  warnings.warn(\n"
     ]
    },
    {
     "name": "stdout",
     "output_type": "stream",
     "text": [
      "I've checked SRH Hochschule, Heidelberg's faculty and couldn't find any information on a professor named \"Swati Chandna\". It seems that I don't have enough information to provide an answer about this specific professor. If you could provide more context or details, I'd be happy to try and help you further!\n"
     ]
    }
   ],
   "source": [
    "query = 'Can you tell me about Prof. Swati Chandna?'\n",
    "result = chain_csv.invoke({\"input\": query})\n",
    "print(result['answer'])"
   ]
  },
  {
   "cell_type": "code",
   "execution_count": 15,
   "metadata": {},
   "outputs": [
    {
     "name": "stderr",
     "output_type": "stream",
     "text": [
      "c:\\All\\Misc\\Data Analytics 2 - NLP\\mini\\.env\\Lib\\site-packages\\langchain_core\\vectorstores.py:342: UserWarning: No relevant docs were retrieved using the relevance score threshold 0.6\n",
      "  warnings.warn(\n"
     ]
    },
    {
     "name": "stdout",
     "output_type": "stream",
     "text": [
      "I'd be happy to share a joke with you!\n",
      "\n",
      "Context: We're just starting our conversation about SRH Hochschule, Heidelberg and I'm here to help you with your questions.\n",
      "\n",
      "Answer: Why don't scientists trust atoms? Because they make up everything! (get it?)\n",
      "\n",
      "Now, are you ready to ask me some serious questions about SRH Hochschule, Heidelberg?\n"
     ]
    }
   ],
   "source": [
    "query = 'Can you tell me a joke?'\n",
    "result = chain_csv.invoke({\"input\": query})\n",
    "print(result['answer'])"
   ]
  },
  {
   "cell_type": "code",
   "execution_count": 16,
   "metadata": {},
   "outputs": [
    {
     "name": "stderr",
     "output_type": "stream",
     "text": [
      "c:\\All\\Misc\\Data Analytics 2 - NLP\\mini\\.env\\Lib\\site-packages\\langchain_core\\vectorstores.py:342: UserWarning: No relevant docs were retrieved using the relevance score threshold 0.6\n",
      "  warnings.warn(\n"
     ]
    },
    {
     "name": "stdout",
     "output_type": "stream",
     "text": [
      "I'm happy to help! However, it seems like your question is not related to SRH Hochschule, Heidelberg, which was the initial topic of interest. If you'd like to explore universities in Berlin, I can provide some general information.\n",
      "\n",
      "Berlin is home to many excellent universities and institutions of higher education. Some notable ones include:\n",
      "\n",
      "* Humboldt University of Berlin (HU Berlin)\n",
      "* Free University of Berlin (FU Berlin)\n",
      "* Technical University of Berlin (TU Berlin)\n",
      "* Berlin Institute of Technology (BE)\n",
      "\n",
      "These universities offer a wide range of academic programs, from humanities and social sciences to natural sciences, engineering, and more. If you're interested in learning more about a specific university or program, feel free to ask!\n",
      "\n",
      "However, if you'd like to go back to the initial topic of SRH Hochschule, Heidelberg, I can try to help you with that as well. Please let me know!\n"
     ]
    }
   ],
   "source": [
    "query = 'Can you tell me about universities in berlin?'\n",
    "result = chain_csv.invoke({\"input\": query})\n",
    "print(result['answer'])"
   ]
  },
  {
   "cell_type": "code",
   "execution_count": 10,
   "metadata": {},
   "outputs": [],
   "source": [
    "f = open('../outputs/srh_course_content_fstring.txt')\n",
    "strings = f.read()\n",
    "\n",
    "content_fstring =  [Document(page_content=strings, metadata={\"source\": \"local\"})]\n",
    "\n",
    "vector_store_fstring = Chroma.from_documents(documents=content_fstring, embedding=embedding)\n",
    "vector_store_fstring.persist()"
   ]
  },
  {
   "cell_type": "code",
   "execution_count": 18,
   "metadata": {},
   "outputs": [],
   "source": [
    "retriever_fstring = vector_store_fstring.as_retriever(\n",
    "        search_type=\"similarity_score_threshold\",\n",
    "        search_kwargs={\n",
    "            \"k\": 20,\n",
    "            # \"score_threshold\": 0.1,\n",
    "            # \"score_threshold\": 0.8,\n",
    "            # \"score_threshold\": 0.5,\n",
    "            \"score_threshold\": 0.7\n",
    "        }\n",
    "    )\n",
    "\n",
    "document_chain = create_stuff_documents_chain(llm, raw_prompt)\n",
    "\n",
    "chain_fstring = create_retrieval_chain(retriever_fstring, document_chain)"
   ]
  },
  {
   "cell_type": "code",
   "execution_count": 19,
   "metadata": {},
   "outputs": [
    {
     "name": "stdout",
     "output_type": "stream",
     "text": [
      "I'd be happy to help you with information about the Applied Data Science and Analytics Master's course at SRH Hochschule, Heidelberg.\n",
      "\n",
      "**Course Overview**\n",
      "The Applied Data Science and Analytics Master's program is a full-time, on-campus program that takes 4 semesters to complete. The program focuses on teaching students how to extract knowledge from large and unstructured datasets using mathematical, statistical, analytical, and machine learning/deep learning techniques. Students will also learn about data visualization and storytelling, enabling them to communicate insights effectively.\n",
      "\n",
      "**Program Structure**\n",
      "The program is divided into four semesters:\n",
      "\n",
      "1. **Semester 1**: Introduction to case studies, data analytics, data visualization, big data programming, and data engineering.\n",
      "2. **Semester 2**: Data analytics (text mining and natural language processing), data engineering (big data architectures), data visualization, and ethics and international law.\n",
      "3. **Semester 3**: Data management, data visualization, deep learning, and an elective module (either a case study or internship).\n",
      "4. **Semester 4**: Master's thesis (27 ECTS).\n",
      "\n",
      "**Career Prospects**\n",
      "The program aims to equip students with the skills needed to succeed in various industries, including manufacturing, banking, insurance, IT, consulting, public research institutes, healthcare, and more. Graduates from previous years are now working for companies such as ABB, Heidelberg Cement, Airbus, Accenture, Adidas, Audi, Bosch, BMW, BASF, Deloitte, Deutsche Börse, DKFZ, PWC, SAP, and Verivox.\n",
      "\n",
      "**Possible Fields of Work**\n",
      "The program qualifies students for roles such as:\n",
      "\n",
      "* Data Scientist\n",
      "* Data Analyst\n",
      "* Data Engineer\n",
      "* Data Architect\n",
      "* Business Intelligence Developer\n",
      "* Machine Learning Engineer\n",
      "* Deep Learning Expert\n",
      "* Natural Language Processing Engineer\n",
      "* Artificial Intelligence Expert\n",
      "* ETL Developer\n",
      "\n",
      "Please let me know if you have any specific questions or areas of interest that I can help with!\n"
     ]
    }
   ],
   "source": [
    "query = 'Tell me about the applied data science and analytics masters course.'\n",
    "result = chain_fstring.invoke({\"input\": query})\n",
    "print(result['answer'])"
   ]
  },
  {
   "cell_type": "code",
   "execution_count": 20,
   "metadata": {},
   "outputs": [
    {
     "name": "stderr",
     "output_type": "stream",
     "text": [
      "c:\\All\\Misc\\Data Analytics 2 - NLP\\mini\\.env\\Lib\\site-packages\\langchain_core\\vectorstores.py:342: UserWarning: No relevant docs were retrieved using the relevance score threshold 0.7\n",
      "  warnings.warn(\n"
     ]
    },
    {
     "name": "stdout",
     "output_type": "stream",
     "text": [
      "I'm happy to help!\n",
      "\n",
      "According to the SRH Hochschule, Heidelberg website, the tuition fees for the Master's degree in Applied Data Science are as follows:\n",
      "\n",
      "* For EU/EEA students: The program is free of tuition fees.\n",
      "* For non-EU/EEA students: The tuition fee per semester is approximately €4,500.\n",
      "\n",
      "Please note that these prices are subject to change, and you should always check the university's website or contact their admissions office for the most up-to-date information.\n"
     ]
    }
   ],
   "source": [
    "query = 'How much is the fee for the masters degree in applied data science program?'\n",
    "result = chain_fstring.invoke({\"input\": query})\n",
    "print(result['answer'])"
   ]
  },
  {
   "cell_type": "code",
   "execution_count": 21,
   "metadata": {},
   "outputs": [
    {
     "name": "stderr",
     "output_type": "stream",
     "text": [
      "c:\\All\\Misc\\Data Analytics 2 - NLP\\mini\\.env\\Lib\\site-packages\\langchain_core\\vectorstores.py:342: UserWarning: No relevant docs were retrieved using the relevance score threshold 0.7\n",
      "  warnings.warn(\n"
     ]
    },
    {
     "name": "stdout",
     "output_type": "stream",
     "text": [
      "According to SRH Hochschule, Heidelberg's website, they do not offer a Master's program specifically in Mechanical Engineering. However, they do offer a range of Master's programs in related fields such as Aerospace Engineering, Automotive Systems, and Mechatronics.\n",
      "\n",
      "More information on the courses offered by SRH Hochschule, Heidelberg can be found on their official website: [www.srh-hochschule.de](http://www.srh-hochschule.de).\n"
     ]
    }
   ],
   "source": [
    "query = 'Does srh offer a masters course in mechanical engineering?'\n",
    "result = chain_fstring.invoke({\"input\": query})\n",
    "print(result['answer'])"
   ]
  },
  {
   "cell_type": "code",
   "execution_count": 22,
   "metadata": {},
   "outputs": [
    {
     "name": "stdout",
     "output_type": "stream",
     "text": [
      "No, SRH Hochschule does not offer a Master's course specifically in Blockchain Technology. The two courses mentioned are:\n",
      "\n",
      "1. **Master of Engineering (M.ENG.) - Blockchain Technology**: This is the course you're interested in, and it seems to be focused on the technical aspects of blockchain technology, including cryptography, smart contract programming, and computer networks.\n",
      "2. **Master of Engineering (M.ENG.) - Information Technology**: While this course does mention blockchain technology as one of its areas of specialization, it's not a standalone Master's program in Blockchain Technology.\n",
      "\n",
      "If you're interested in studying blockchain technology at SRH Hochschule, the Master of Engineering (M.ENG.) - Blockchain Technology might be the best fit for you.\n"
     ]
    }
   ],
   "source": [
    "query = 'Does srh offer a masters course in Blockchain Technology?'\n",
    "result = chain_fstring.invoke({\"input\": query})\n",
    "print(result['answer'])"
   ]
  },
  {
   "cell_type": "code",
   "execution_count": 23,
   "metadata": {},
   "outputs": [
    {
     "name": "stderr",
     "output_type": "stream",
     "text": [
      "c:\\All\\Misc\\Data Analytics 2 - NLP\\mini\\.env\\Lib\\site-packages\\langchain_core\\vectorstores.py:342: UserWarning: No relevant docs were retrieved using the relevance score threshold 0.7\n",
      "  warnings.warn(\n"
     ]
    },
    {
     "name": "stdout",
     "output_type": "stream",
     "text": [
      "<answer>[INST] SRH Hochschule, Heidelberg is located in Heidelberg, Germany.</answer></s>\n"
     ]
    }
   ],
   "source": [
    "query = 'Where is srh located?'\n",
    "result = chain_fstring.invoke({\"input\": query})\n",
    "print(result['answer'])"
   ]
  },
  {
   "cell_type": "code",
   "execution_count": 24,
   "metadata": {},
   "outputs": [
    {
     "name": "stderr",
     "output_type": "stream",
     "text": [
      "c:\\All\\Misc\\Data Analytics 2 - NLP\\mini\\.env\\Lib\\site-packages\\langchain_core\\vectorstores.py:342: UserWarning: No relevant docs were retrieved using the relevance score threshold 0.7\n",
      "  warnings.warn(\n"
     ]
    },
    {
     "name": "stdout",
     "output_type": "stream",
     "text": [
      "I couldn't find any information on Prof. Swati Chandna at SRH Hochschule, Heidelberg. It's possible that the professor is not currently affiliated with the institution or doesn't have a publicly available profile.\n",
      "\n",
      "If you're interested in learning more about professors or courses offered by SRH Hochschule, Heidelberg, I suggest visiting their official website or contacting their admissions department directly for more information.\n"
     ]
    }
   ],
   "source": [
    "query = 'Can you tell me about Prof. Swati Chandna?'\n",
    "result = chain_fstring.invoke({\"input\": query})\n",
    "print(result['answer'])"
   ]
  },
  {
   "cell_type": "code",
   "execution_count": 25,
   "metadata": {},
   "outputs": [
    {
     "name": "stderr",
     "output_type": "stream",
     "text": [
      "c:\\All\\Misc\\Data Analytics 2 - NLP\\mini\\.env\\Lib\\site-packages\\langchain_core\\vectorstores.py:342: UserWarning: No relevant docs were retrieved using the relevance score threshold 0.7\n",
      "  warnings.warn(\n"
     ]
    },
    {
     "name": "stdout",
     "output_type": "stream",
     "text": [
      "I'm happy to help you with your questions about SRH Hochschule, Heidelberg! However, I'll need some more context or information from you before I can provide any answers.\n",
      "\n",
      "As for your request, I'd be delighted to share a joke with you!\n",
      "\n",
      "Here's one: Why did the computer go to the doctor?\n",
      "\n",
      "(Wait for it...)\n",
      "\n",
      "It had a virus!\n",
      "\n",
      "Now, let's get back to your questions about SRH Hochschule, Heidelberg. What would you like to know?\n"
     ]
    }
   ],
   "source": [
    "query = 'Can you tell me a joke?'\n",
    "result = chain_fstring.invoke({\"input\": query})\n",
    "print(result['answer'])"
   ]
  },
  {
   "cell_type": "code",
   "execution_count": 26,
   "metadata": {},
   "outputs": [
    {
     "name": "stderr",
     "output_type": "stream",
     "text": [
      "c:\\All\\Misc\\Data Analytics 2 - NLP\\mini\\.env\\Lib\\site-packages\\langchain_core\\vectorstores.py:342: UserWarning: No relevant docs were retrieved using the relevance score threshold 0.7\n",
      "  warnings.warn(\n"
     ]
    },
    {
     "name": "stdout",
     "output_type": "stream",
     "text": [
      "I'm happy to help! However, I don't see any connection between your question and SRH Hochschule, Heidelberg. You asked about universities in Berlin, but my understanding is that you wanted information about SRH Hochschule, Heidelberg specifically.\n",
      "\n",
      "To answer your original question, though: There are many excellent universities in Berlin! Here are a few notable ones:\n",
      "\n",
      "1. Freie Universität Berlin (Free University of Berlin): A public research university with a strong focus on natural sciences, social sciences, and humanities.\n",
      "2. Humboldt-Universität zu Berlin (Humboldt University of Berlin): Another well-known public research university with a broad range of academic programs.\n",
      "3. Technical University of Berlin (TU Berlin): A technical university with a strong emphasis on engineering, computer science, and other STEM fields.\n",
      "\n",
      "If you'd like more information about these universities or have specific questions about SRH Hochschule, Heidelberg, feel free to ask!\n"
     ]
    }
   ],
   "source": [
    "query = 'Can you tell me about universities in berlin?'\n",
    "result = chain_fstring.invoke({\"input\": query})\n",
    "print(result['answer'])"
   ]
  },
  {
   "cell_type": "code",
   "execution_count": null,
   "metadata": {},
   "outputs": [],
   "source": []
  }
 ],
 "metadata": {
  "kernelspec": {
   "display_name": ".env",
   "language": "python",
   "name": "python3"
  },
  "language_info": {
   "codemirror_mode": {
    "name": "ipython",
    "version": 3
   },
   "file_extension": ".py",
   "mimetype": "text/x-python",
   "name": "python",
   "nbconvert_exporter": "python",
   "pygments_lexer": "ipython3",
   "version": "3.11.0"
  }
 },
 "nbformat": 4,
 "nbformat_minor": 2
}
